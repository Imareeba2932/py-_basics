{
 "cells": [
  {
   "cell_type": "code",
   "execution_count": 1,
   "metadata": {},
   "outputs": [
    {
     "name": "stdout",
     "output_type": "stream",
     "text": [
      "You are cool\n"
     ]
    }
   ],
   "source": [
    "a=int(input('enter first number:'))\n",
    "b=int(input('enter second number:'))\n",
    "if a>=b:\n",
    "    print('I am a genius')\n",
    "else:\n",
    "    print('You are cool')    "
   ]
  },
  {
   "cell_type": "code",
   "execution_count": 2,
   "metadata": {},
   "outputs": [
    {
     "data": {
      "text/plain": [
       "12"
      ]
     },
     "execution_count": 2,
     "metadata": {},
     "output_type": "execute_result"
    }
   ],
   "source": [
    "lst=['snapchat','chrome','whatsapp','google meet','instagram','adda247','testbook','classroom','telegram','zoom meeting','guidely','practice mock']\n",
    "len(lst)"
   ]
  },
  {
   "cell_type": "code",
   "execution_count": 4,
   "metadata": {},
   "outputs": [
    {
     "name": "stdout",
     "output_type": "stream",
     "text": [
      "password do not match😢\n"
     ]
    }
   ],
   "source": [
    "username=input('Enter your name:')\n",
    "email=input('Enter your email:')\n",
    "pwd=input('Enter your password:')\n",
    "pwd2=input('Confirm your password:')\n",
    "\n",
    "if len(username)>=4 and len(username)<=15:\n",
    "    if'@' in email and email.islower() and len(email)>10:\n",
    "        if len(pwd)>=6 and pwd!=username:\n",
    "            if pwd==pwd2:\n",
    "                  print(\"Hurray😁\")\n",
    "        else:\n",
    "                print(\"password do not match😢\")\n",
    "    else:\n",
    "            print(\"password is invalid\")\n",
    "else:\n",
    "    print(\"username is invalid 🤷‍♂️ \")       "
   ]
  },
  {
   "cell_type": "code",
   "execution_count": null,
   "metadata": {},
   "outputs": [
    {
     "name": "stdout",
     "output_type": "stream",
     "text": [
      "You are oustanding\n"
     ]
    }
   ],
   "source": [
    "username=input(\"Enter your name:\")\n",
    "max_marks=int(input('Enter the marks:'))\n",
    "if max_marks>90:\n",
    "    print(\"You are oustanding\")\n",
    "elif max_marks>75:\n",
    "    print(\"You are intelligent\")\n",
    "elif max_marks>60:\n",
    "    print(\"You are good performer\")  \n",
    "else:\n",
    "    print(\"Poor\")        "
   ]
  },
  {
   "cell_type": "code",
   "execution_count": null,
   "metadata": {},
   "outputs": [
    {
     "name": "stdout",
     "output_type": "stream",
     "text": [
      "Given number is even\n"
     ]
    }
   ],
   "source": [
    "x=int(input(\"Enter number\"))\n",
    "if x%2 == 0:\n",
    "    print(\"Given number is even\")\n",
    "else:\n",
    "    print(\"Given number is odd\")\n"
   ]
  },
  {
   "cell_type": "code",
   "execution_count": null,
   "metadata": {},
   "outputs": [],
   "source": [
    "\n",
    "x=int(input(\"Enter number\"))\n",
    "if x%2 == :\n",
    "    print(\"Given number is prime\")\n",
    "else:\n",
    "    print(\"Given number is not prime\")\n"
   ]
  },
  {
   "cell_type": "code",
   "execution_count": null,
   "metadata": {},
   "outputs": [
    {
     "name": "stdout",
     "output_type": "stream",
     "text": [
      "you are going to run this part\n",
      "you are going to see this part also\n"
     ]
    }
   ],
   "source": [
    "count = int (input ('enter a valur'))\n",
    "if count > 5:\n",
    "    print ('you are going to run this part')\n",
    "if count > 15:\n",
    "    print ('you are going to see this part also')\n",
    "if count % 2 ==0:\n",
    "   print ('even')        "
   ]
  },
  {
   "cell_type": "code",
   "execution_count": null,
   "metadata": {},
   "outputs": [],
   "source": []
  }
 ],
 "metadata": {
  "kernelspec": {
   "display_name": "base",
   "language": "python",
   "name": "python3"
  },
  "language_info": {
   "codemirror_mode": {
    "name": "ipython",
    "version": 3
   },
   "file_extension": ".py",
   "mimetype": "text/x-python",
   "name": "python",
   "nbconvert_exporter": "python",
   "pygments_lexer": "ipython3",
   "version": "3.9.12"
  },
  "orig_nbformat": 4,
  "vscode": {
   "interpreter": {
    "hash": "bd97b8bffa4d3737e84826bc3d37be3046061822757ce35137ab82ad4c5a2016"
   }
  }
 },
 "nbformat": 4,
 "nbformat_minor": 2
}
